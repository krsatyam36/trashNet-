{
 "cells": [
  {
   "cell_type": "code",
   "execution_count": 4,
   "metadata": {
    "colab": {
     "base_uri": "https://localhost:8080/"
    },
    "executionInfo": {
     "elapsed": 13628,
     "status": "ok",
     "timestamp": 1759554712257,
     "user": {
      "displayName": "KUMAR SATYAM 3135",
      "userId": "06743662422054108171"
     },
     "user_tz": -330
    },
    "id": "gF1Kq2dSP7HG",
    "outputId": "e1f9ac83-ec4d-4ff5-f3e7-7c6766502523"
   },
   "outputs": [
    {
     "name": "stdout",
     "output_type": "stream",
     "text": [
      "Drive already mounted at /content/drive; to attempt to forcibly remount, call drive.mount(\"/content/drive\", force_remount=True).\n",
      "Project root created at: /content/drive/MyDrive/trasnNet_task\n",
      "Hugging Face login successful (token accepted).\n"
     ]
    }
   ],
   "source": [
    "# =============================\n",
    "# Colab Cell 1 — Setup, Hugging Face login, Drive Mount\n",
    "# =============================\n",
    "\n",
    "# Install required libraries:\n",
    "!pip install -q datasets huggingface_hub tqdm scikit-learn onnxruntime\n",
    "\n",
    "# Optional: install torch/torchvision if missing\n",
    "# !pip install -q torch torchvision\n",
    "\n",
    "# --- Mount Google Drive ---\n",
    "from google.colab import drive\n",
    "drive.mount('/content/drive')\n",
    "\n",
    "# --- Define project root inside Google Drive ---\n",
    "import os\n",
    "PROJECT_DIR = \"/content/drive/MyDrive/trasnNet_task\"\n",
    "os.makedirs(PROJECT_DIR, exist_ok=True)\n",
    "\n",
    "# Sub-directories for organization\n",
    "os.makedirs(os.path.join(PROJECT_DIR, \"models\"), exist_ok=True)\n",
    "os.makedirs(os.path.join(PROJECT_DIR, \"results\"), exist_ok=True)\n",
    "os.makedirs(os.path.join(PROJECT_DIR, \"checkpoints\"), exist_ok=True)\n",
    "\n",
    "print(\"Project root created at:\", PROJECT_DIR)\n",
    "\n",
    "# --- Hugging Face Login ---\n",
    "from huggingface_hub import login\n",
    "\n",
    "# Direct login with token\n",
    "hf_token = \"\"\n",
    "login(token=hf_token)\n",
    "\n",
    "print(\"Hugging Face login successful (token accepted).\")\n",
    "\n",
    "# Note:\n",
    "# - Models will be saved in /content/drive/MyDrive/trasnNet_task/models\n",
    "# - Checkpoints for resume training in /content/drive/MyDrive/trasnNet_task/checkpoints\n",
    "# - Results (CSV, confusion matrix, logs) in /content/drive/MyDrive/trasnNet_task/results\n"
   ]
  },
  {
   "cell_type": "code",
   "execution_count": 6,
   "metadata": {
    "colab": {
     "base_uri": "https://localhost:8080/",
     "height": 305,
     "referenced_widgets": [
      "3c497280cd9145a3b79b482e4f4dde0a",
      "0db69f67c69e4ccb911e6c9c15d21a5a",
      "e6ded91fbacd49139552b436a697a934",
      "49e6af5aae7f48ffb54042597a7c91ad",
      "be17ef9b26044b2fa52810d939a1a0ec",
      "46823dec24d344fa8026dfa34a8d222b",
      "9d04ba71245b4a14b4579a04e191b885",
      "fac902e9d0c4462eb188b0e9e870d8e7",
      "f23e2ec2b906488b83df1d1217bf50d6",
      "fed0634604fb4fc09a3e0baae8c4f357",
      "ccc0a4ac1cce4f51ac3a3e98ffedcc0c",
      "3df34afd41fc4d2ea6dbf445f5d554e4",
      "35aee13a20674ddc9721699e11b73ec2",
      "31fbcfdb80844b2883754a220e2d8a6a",
      "39b8e9d0fa9544928192b133940cfcba",
      "826f66c454064a8b8da10d0857a90c60",
      "cddf4b04d5144aee8e8c4901248051fd",
      "b5a51dc87764479bbb2dbae97b06be75",
      "05fd69f407d34f0cac35466fb0eb94fc",
      "013a548c9425417fa1e70a3981acebcd",
      "11a78f8a920c4494b8d361b516e0a3bf",
      "5c876ab4b7154dc683590646e7c5f251",
      "cf77b27fedf949e28cadb644fdb8747a",
      "2cde63edcf504b63918b4b8088bee2e3",
      "c091f338c780437e96ef194db7f4612e",
      "2ecc255a35314a34904037ed10cf6dcf",
      "7a9ebc11a2014b8b97be0ef1e3effe8a",
      "2520bfbcd6aa47719a94fb9cc40fb2a7",
      "1aa33aa8206a4a45a7176566eb933190",
      "7fc3b5f5c2654fda9382314e87125b94",
      "a6259ac6dc40451dbb4153b3572fffaf",
      "3dcc6705066447dc9008da189d9763eb",
      "929a66d889b2462ba238f42f4e5c6a38",
      "1e41efa5aa3847909310b75ff5c90ed6",
      "75f75728c76e4b82b7dccf8b76dc0f6b",
      "8dd4f7c4f64c48eea9815de6698452d9",
      "5d5b4a46a7b747d39ac9f3a7be229031",
      "ecf50e5d0be240a2bf9bb7754fb11e10",
      "2ceac8e86e0d4111b62ceebe4430961f",
      "6322305898e243b98ceecd16991c2e48",
      "c7f0d1c532dd41f4816f96f11ee48530",
      "f299a5a2336a4cd5a317bb6d0770d383",
      "5db9427f88b34da7ba651653f78df1b7",
      "c58497c35c874ebe8b4e1cd71072a6d6"
     ]
    },
    "executionInfo": {
     "elapsed": 58353,
     "status": "ok",
     "timestamp": 1759554809768,
     "user": {
      "displayName": "KUMAR SATYAM 3135",
      "userId": "06743662422054108171"
     },
     "user_tz": -330
    },
    "id": "Aoy_Y1_9QJQB",
    "outputId": "963ec7b9-c71c-4d54-ff1a-29decfb871da"
   },
   "outputs": [
    {
     "data": {
      "application/vnd.jupyter.widget-view+json": {
       "model_id": "3c497280cd9145a3b79b482e4f4dde0a",
       "version_major": 2,
       "version_minor": 0
      },
      "text/plain": [
       "README.md:   0%|          | 0.00/21.0 [00:00<?, ?B/s]"
      ]
     },
     "metadata": {},
     "output_type": "display_data"
    },
    {
     "data": {
      "application/vnd.jupyter.widget-view+json": {
       "model_id": "3df34afd41fc4d2ea6dbf445f5d554e4",
       "version_major": 2,
       "version_minor": 0
      },
      "text/plain": [
       "dataset-original.zip:   0%|          | 0.00/3.63G [00:00<?, ?B/s]"
      ]
     },
     "metadata": {},
     "output_type": "display_data"
    },
    {
     "data": {
      "application/vnd.jupyter.widget-view+json": {
       "model_id": "cf77b27fedf949e28cadb644fdb8747a",
       "version_major": 2,
       "version_minor": 0
      },
      "text/plain": [
       "dataset-resized.zip:   0%|          | 0.00/42.8M [00:00<?, ?B/s]"
      ]
     },
     "metadata": {},
     "output_type": "display_data"
    },
    {
     "data": {
      "application/vnd.jupyter.widget-view+json": {
       "model_id": "1e41efa5aa3847909310b75ff5c90ed6",
       "version_major": 2,
       "version_minor": 0
      },
      "text/plain": [
       "Generating train split:   0%|          | 0/5054 [00:00<?, ? examples/s]"
      ]
     },
     "metadata": {},
     "output_type": "display_data"
    },
    {
     "name": "stdout",
     "output_type": "stream",
     "text": [
      "DatasetDict({\n",
      "    train: Dataset({\n",
      "        features: ['image', 'label'],\n",
      "        num_rows: 5054\n",
      "    })\n",
      "})\n"
     ]
    }
   ],
   "source": [
    "from datasets import load_dataset\n",
    "\n",
    "# Loading TrashNet directly from Hugging Face\n",
    "ds = load_dataset(\"garythung/trashnet\")\n",
    "print(ds)\n"
   ]
  },
  {
   "cell_type": "code",
   "execution_count": 5,
   "metadata": {
    "colab": {
     "base_uri": "https://localhost:8080/"
    },
    "executionInfo": {
     "elapsed": 7112,
     "status": "ok",
     "timestamp": 1759554746205,
     "user": {
      "displayName": "KUMAR SATYAM 3135",
      "userId": "06743662422054108171"
     },
     "user_tz": -330
    },
    "id": "8AsCbX0sonNH",
    "outputId": "e620a391-ec70-44c0-8b9b-b54df260c353"
   },
   "outputs": [
    {
     "name": "stdout",
     "output_type": "stream",
     "text": [
      "Drive already mounted at /content/drive; to attempt to forcibly remount, call drive.mount(\"/content/drive\", force_remount=True).\n"
     ]
    }
   ],
   "source": [
    "from google.colab import drive\n",
    "drive.mount('/content/drive')"
   ]
  },
  {
   "cell_type": "code",
   "execution_count": 7,
   "metadata": {
    "colab": {
     "base_uri": "https://localhost:8080/"
    },
    "executionInfo": {
     "elapsed": 20428,
     "status": "ok",
     "timestamp": 1759554847555,
     "user": {
      "displayName": "KUMAR SATYAM 3135",
      "userId": "06743662422054108171"
     },
     "user_tz": -330
    },
    "id": "OGncfdxTQKnf",
    "outputId": "dce6f320-8eeb-46b3-a1ff-4e42081687bb"
   },
   "outputs": [
    {
     "name": "stdout",
     "output_type": "stream",
     "text": [
      "Loading 'garythung/trashnet' from Hugging Face...\n",
      "DatasetDict({\n",
      "    train: Dataset({\n",
      "        features: ['image', 'label'],\n",
      "        num_rows: 5054\n",
      "    })\n",
      "})\n",
      "Splitting into train (70%), val (20%), test (10%) ...\n",
      "Class names: ['cardboard', 'glass', 'metal', 'paper', 'plastic', 'trash']\n",
      "Sizes -> train: 3537, val: 1016, test: 501\n",
      "Class distribution in train: Counter({3: 821, 1: 705, 4: 647, 2: 585, 0: 580, 5: 199})\n",
      "One batch images.shape: torch.Size([16, 3, 224, 224]) labels.shape: torch.Size([16])\n",
      "Sample labels: [2, 1, 3, 2, 4, 0, 4, 2, 3, 2, 4, 3]\n"
     ]
    }
   ],
   "source": [
    "# =============================\n",
    "# Colab Cell 2 — Stage 1: Dataset -> Dataloaders\n",
    "# =============================\n",
    "\n",
    "# Import standard libraries\n",
    "import os\n",
    "import numpy as np\n",
    "from collections import Counter\n",
    "from PIL import Image   # for image handling\n",
    "\n",
    "# Import Hugging Face dataset loader\n",
    "from datasets import load_dataset\n",
    "\n",
    "# Import PyTorch Dataset and DataLoader utilities\n",
    "from torch.utils.data import Dataset, DataLoader\n",
    "\n",
    "# Import torchvision transforms for preprocessing & augmentation\n",
    "from torchvision import transforms\n",
    "\n",
    "# Import torch (core deep learning library)\n",
    "import torch\n",
    "\n",
    "# -----------------------------\n",
    "# Configurations (Hyperparameters)\n",
    "# -----------------------------\n",
    "BATCH_SIZE = 16       # number of images per batch\n",
    "IMAGE_SIZE = 224      # resize all images to 224x224 (common input size for CNNs)\n",
    "NUM_WORKERS = 2       # number of worker threads for DataLoader (use 0 if Colab gives worker errors)\n",
    "\n",
    "# -----------------------------\n",
    "# Load dataset from Hugging Face Hub\n",
    "# -----------------------------\n",
    "print(\"Loading 'garythung/trashnet' from Hugging Face...\")\n",
    "ds_full = load_dataset(\"garythung/trashnet\")  # dataset gets cached locally in ~/.cache/huggingface/datasets\n",
    "print(ds_full)\n",
    "\n",
    "# -----------------------------\n",
    "# Train/Val/Test split\n",
    "# -----------------------------\n",
    "print(\"Splitting into train (70%), val (20%), test (10%) ...\")\n",
    "\n",
    "# Step 1: split full dataset into 70% train and 30% temp\n",
    "split1 = ds_full[\"train\"].train_test_split(test_size=0.3, seed=42)\n",
    "\n",
    "# Step 2: split the 30% temp into validation and test (approx 20% and 10% overall)\n",
    "split2 = split1[\"test\"].train_test_split(test_size=0.33, seed=42)\n",
    "\n",
    "# Final dictionary of splits\n",
    "dataset = {\n",
    "    \"train\": split1[\"train\"],  # 70%\n",
    "    \"val\": split2[\"train\"],    # 20%\n",
    "    \"test\": split2[\"test\"]     # 10%\n",
    "}\n",
    "\n",
    "# -----------------------------\n",
    "# Get class names (labels)\n",
    "# -----------------------------\n",
    "label_names = ds_full[\"train\"].features[\"label\"].names\n",
    "print(\"Class names:\", label_names)\n",
    "\n",
    "# -----------------------------\n",
    "# Define data augmentations (for training) and preprocessing (for val/test)\n",
    "# -----------------------------\n",
    "train_transform = transforms.Compose([\n",
    "    transforms.Resize((IMAGE_SIZE, IMAGE_SIZE)),     # resize to 224x224\n",
    "    transforms.RandomHorizontalFlip(),               # random flip for augmentation\n",
    "    transforms.RandomRotation(10),                   # small random rotations\n",
    "    transforms.ColorJitter(0.2, 0.2, 0.2, 0.05),     # random brightness/contrast changes\n",
    "    transforms.ToTensor(),                           # convert to tensor (0-1 range)\n",
    "    transforms.Normalize([0.485,0.456,0.406],        # normalize with ImageNet mean\n",
    "                         [0.229,0.224,0.225])        # normalize with ImageNet std\n",
    "])\n",
    "\n",
    "val_transform = transforms.Compose([\n",
    "    transforms.Resize((IMAGE_SIZE, IMAGE_SIZE)),     # resize\n",
    "    transforms.ToTensor(),\n",
    "    transforms.Normalize([0.485,0.456,0.406],\n",
    "                         [0.229,0.224,0.225])\n",
    "])\n",
    "\n",
    "# -----------------------------\n",
    "# PyTorch Dataset wrapper for Hugging Face datasets\n",
    "# -----------------------------\n",
    "class HFDatasetTorch(Dataset):\n",
    "    def __init__(self, hf_ds, transform=None):\n",
    "        self.ds = hf_ds\n",
    "        self.transform = transform\n",
    "\n",
    "    def __len__(self):\n",
    "        return len(self.ds)   # return number of samples\n",
    "\n",
    "    def __getitem__(self, idx):\n",
    "        # Get one example from Hugging Face dataset\n",
    "        ex = self.ds[idx]\n",
    "        img = ex[\"image\"]     # PIL Image or np.array\n",
    "        label = ex[\"label\"]   # class index\n",
    "\n",
    "        # Ensure it's a PIL Image\n",
    "        if not isinstance(img, Image.Image):\n",
    "            img = Image.fromarray(img)\n",
    "        img = img.convert(\"RGB\")   # make sure it's 3-channel RGB\n",
    "\n",
    "        # Apply transforms if provided\n",
    "        if self.transform:\n",
    "            img = self.transform(img)\n",
    "\n",
    "        return img, label     # return transformed image + label\n",
    "\n",
    "# -----------------------------\n",
    "# Wrap Hugging Face dataset into PyTorch Datasets\n",
    "# -----------------------------\n",
    "train_ds = HFDatasetTorch(dataset[\"train\"], transform=train_transform)\n",
    "val_ds   = HFDatasetTorch(dataset[\"val\"],   transform=val_transform)\n",
    "test_ds  = HFDatasetTorch(dataset[\"test\"],  transform=val_transform)\n",
    "\n",
    "# -----------------------------\n",
    "# Create PyTorch DataLoaders\n",
    "# -----------------------------\n",
    "train_loader = DataLoader(train_ds, batch_size=BATCH_SIZE, shuffle=True,\n",
    "                          num_workers=NUM_WORKERS, pin_memory=True)\n",
    "val_loader   = DataLoader(val_ds,   batch_size=BATCH_SIZE, shuffle=False,\n",
    "                          num_workers=NUM_WORKERS, pin_memory=True)\n",
    "test_loader  = DataLoader(test_ds,  batch_size=BATCH_SIZE, shuffle=False,\n",
    "                          num_workers=NUM_WORKERS, pin_memory=True)\n",
    "\n",
    "# -----------------------------\n",
    "# Sanity checks\n",
    "# -----------------------------\n",
    "print(f\"Sizes -> train: {len(train_ds)}, val: {len(val_ds)}, test: {len(test_ds)}\")\n",
    "print(\"Class distribution in train:\", Counter(dataset[\"train\"][\"label\"]))\n",
    "\n",
    "# Show one batch of data to verify shapes\n",
    "imgs, labs = next(iter(train_loader))\n",
    "print(\"One batch images.shape:\", imgs.shape, \"labels.shape:\", labs.shape)\n",
    "print(\"Sample labels:\", labs[:12].tolist())\n",
    "\n",
    "# -----------------------------\n",
    "# Expose variables to global scope (for later cells)\n",
    "# -----------------------------\n",
    "globals().update({\n",
    "    \"label_names\": label_names,   # list of class names\n",
    "    \"train_loader\": train_loader,\n",
    "    \"val_loader\": val_loader,\n",
    "    \"test_loader\": test_loader,\n",
    "    \"dataset_splits\": dataset\n",
    "})\n"
   ]
  },
  {
   "cell_type": "code",
   "execution_count": 10,
   "metadata": {
    "colab": {
     "base_uri": "https://localhost:8080/",
     "height": 1000
    },
    "collapsed": true,
    "executionInfo": {
     "elapsed": 1045607,
     "status": "error",
     "timestamp": 1759556800523,
     "user": {
      "displayName": "KUMAR SATYAM 3135",
      "userId": "06743662422054108171"
     },
     "user_tz": -330
    },
    "id": "enbPpX40Hpw1",
    "outputId": "a0fe3b72-b09f-4ec7-aabc-e0fdb08130d2"
   },
   "outputs": [
    {
     "name": "stderr",
     "output_type": "stream",
     "text": [
      "Epoch 1 train:   0%|          | 1/222 [00:03<14:31,  3.94s/it]Exception ignored in: <function _MultiProcessingDataLoaderIter.__del__ at 0x7a3bc099a7a0>\n",
      "Traceback (most recent call last):\n",
      "  File \"/usr/local/lib/python3.12/dist-packages/torch/utils/data/dataloader.py\", line 1664, in __del__\n",
      "    self._shutdown_workers()\n",
      "  File \"/usr/local/lib/python3.12/dist-packages/torch/utils/data/dataloader.py\", line 1647, in _shutdown_workers\n",
      "    if w.is_alive():\n",
      "       ^^^^^^^^^^^^\n",
      "  File \"/usr/lib/python3.12/multiprocessing/process.py\", line 160, in is_alive\n",
      "    assert self._parent_pid == os.getpid(), 'can only test a child process'\n",
      "           ^^^^^^^^^^^^^^^^^^^^^^^^^^^^^^^\n",
      "AssertionError: can only test a child process\n",
      "Exception ignored in: <function _MultiProcessingDataLoaderIter.__del__ at 0x7a3bc099a7a0>\n",
      "Traceback (most recent call last):\n",
      "  File \"/usr/local/lib/python3.12/dist-packages/torch/utils/data/dataloader.py\", line 1664, in __del__\n",
      "    self._shutdown_workers()\n",
      "  File \"/usr/local/lib/python3.12/dist-packages/torch/utils/data/dataloader.py\", line 1647, in _shutdown_workers\n",
      "    if w.is_alive():\n",
      "       ^^^^^^^^^^^^\n",
      "  File \"/usr/lib/python3.12/multiprocessing/process.py\", line 160, in is_alive\n",
      "    assert self._parent_pid == os.getpid(), 'can only test a child process'\n",
      "           ^^^^^^^^^^^^^^^^^^^^^^^^^^^^^^^\n",
      "AssertionError: can only test a child process\n",
      "Epoch 1 train: 100%|██████████| 222/222 [07:03<00:00,  1.91s/it]\n",
      "Exception ignored in: <function _MultiProcessingDataLoaderIter.__del__ at 0x7a3bc099a7a0>\n",
      "Traceback (most recent call last):\n",
      "  File \"/usr/local/lib/python3.12/dist-packages/torch/utils/data/dataloader.py\", line 1664, in __del__\n",
      "    self._shutdown_workers()\n",
      "  File \"/usr/local/lib/python3.12/dist-packages/torch/utils/data/dataloader.py\", line 1647, in _shutdown_workers\n",
      "    if w.is_alive():\n",
      "       ^^^^^^^^^^^^\n",
      "  File \"/usr/lib/python3.12/multiprocessing/process.py\", line 160, in is_alive\n",
      "    assert self._parent_pid == os.getpid(), 'can only test a child process'\n",
      "           ^^^^^^^^^^^^^^^^^^^^^^^^^^^^^^^\n",
      "AssertionError: can only test a child process\n",
      "Exception ignored in: <function _MultiProcessingDataLoaderIter.__del__ at 0x7a3bc099a7a0>\n",
      "Traceback (most recent call last):\n",
      "  File \"/usr/local/lib/python3.12/dist-packages/torch/utils/data/dataloader.py\", line 1664, in __del__\n",
      "    self._shutdown_workers()\n",
      "  File \"/usr/local/lib/python3.12/dist-packages/torch/utils/data/dataloader.py\", line 1647, in _shutdown_workers\n",
      "    if w.is_alive():\n",
      "       ^^^^^^^^^^^^\n",
      "  File \"/usr/lib/python3.12/multiprocessing/process.py\", line 160, in is_alive\n",
      "    assert self._parent_pid == os.getpid(), 'can only test a child process'\n",
      "           ^^^^^^^^^^^^^^^^^^^^^^^^^^^^^^^\n",
      "AssertionError: can only test a child process\n"
     ]
    },
    {
     "name": "stdout",
     "output_type": "stream",
     "text": [
      "Epoch 1/3 | Train Loss: 0.6267 | Val Loss: 0.3616 | Val Acc: 0.8750\n",
      "Saved new best model -> /content/trasnNet_task/models/resnet18_best.pth\n"
     ]
    },
    {
     "name": "stderr",
     "output_type": "stream",
     "text": [
      "Epoch 2 train:   1%|          | 2/222 [00:03<06:17,  1.72s/it]Exception ignored in: <function _MultiProcessingDataLoaderIter.__del__ at 0x7a3bc099a7a0>\n",
      "Traceback (most recent call last):\n",
      "  File \"/usr/local/lib/python3.12/dist-packages/torch/utils/data/dataloader.py\", line 1664, in __del__\n",
      "    self._shutdown_workers()\n",
      "  File \"/usr/local/lib/python3.12/dist-packages/torch/utils/data/dataloader.py\", line 1647, in _shutdown_workers\n",
      "    if w.is_alive():\n",
      "       ^^^^^^^^^^^^\n",
      "  File \"/usr/lib/python3.12/multiprocessing/process.py\", line 160, in is_alive\n",
      "    assert self._parent_pid == os.getpid(), 'can only test a child process'\n",
      "           ^^^^^^^^^^^^^^^^^^^^^^^^^^^^^^^\n",
      "AssertionError: can only test a child process\n",
      "Exception ignored in: <function _MultiProcessingDataLoaderIter.__del__ at 0x7a3bc099a7a0>\n",
      "Traceback (most recent call last):\n",
      "  File \"/usr/local/lib/python3.12/dist-packages/torch/utils/data/dataloader.py\", line 1664, in __del__\n",
      "    \n",
      "self._shutdown_workers()  File \"/usr/local/lib/python3.12/dist-packages/torch/utils/data/dataloader.py\", line 1647, in _shutdown_workers\n",
      "    if w.is_alive():\n",
      "       ^^^^^^^^^^^^\n",
      "  File \"/usr/lib/python3.12/multiprocessing/process.py\", line 160, in is_alive\n",
      "    assert self._parent_pid == os.getpid(), 'can only test a child process'\n",
      "           ^^^^^^^^^^^^^^^^^^^^^^^^^^^^^^^\n",
      "AssertionError: can only test a child process\n",
      "Epoch 2 train: 100%|██████████| 222/222 [06:58<00:00,  1.89s/it]\n",
      "Exception ignored in: <function _MultiProcessingDataLoaderIter.__del__ at 0x7a3bc099a7a0>\n",
      "Traceback (most recent call last):\n",
      "  File \"/usr/local/lib/python3.12/dist-packages/torch/utils/data/dataloader.py\", line 1664, in __del__\n",
      "    self._shutdown_workers()\n",
      "  File \"/usr/local/lib/python3.12/dist-packages/torch/utils/data/dataloader.py\", line 1647, in _shutdown_workers\n",
      "    if w.is_alive():\n",
      "       Exception ignored in: ^<function _MultiProcessingDataLoaderIter.__del__ at 0x7a3bc099a7a0>^\n",
      "Traceback (most recent call last):\n",
      "  File \"/usr/local/lib/python3.12/dist-packages/torch/utils/data/dataloader.py\", line 1664, in __del__\n",
      "    ^self._shutdown_workers()^\n",
      "^  File \"/usr/local/lib/python3.12/dist-packages/torch/utils/data/dataloader.py\", line 1647, in _shutdown_workers\n",
      "^    ^if w.is_alive():^\n",
      " ^^ ^^ \n",
      "   File \"/usr/lib/python3.12/multiprocessing/process.py\", line 160, in is_alive\n",
      "      assert self._parent_pid == os.getpid(), 'can only test a child process' \n",
      "^ ^^  ^ ^ ^ ^ ^^  ^ ^ ^^\n",
      "^^  File \"/usr/lib/python3.12/multiprocessing/process.py\", line 160, in is_alive\n",
      "^    ^assert self._parent_pid == os.getpid(), 'can only test a child process'\n",
      "^ ^  ^ ^^ ^ ^ ^   ^ ^^^^^^^^^^^^^^^^^^^^^^^^^^^^^^^^^^^\n",
      "^AssertionError^: ^can only test a child process^\n",
      "^^^^^^^^^\n",
      "AssertionError: can only test a child process\n"
     ]
    },
    {
     "ename": "KeyboardInterrupt",
     "evalue": "",
     "output_type": "error",
     "traceback": [
      "\u001b[0;31m---------------------------------------------------------------------------\u001b[0m",
      "\u001b[0;31mKeyboardInterrupt\u001b[0m                         Traceback (most recent call last)",
      "\u001b[0;32m/tmp/ipython-input-449378519.py\u001b[0m in \u001b[0;36m<cell line: 0>\u001b[0;34m()\u001b[0m\n\u001b[1;32m     81\u001b[0m     \u001b[0mall_preds\u001b[0m\u001b[0;34m,\u001b[0m \u001b[0mall_labels\u001b[0m \u001b[0;34m=\u001b[0m \u001b[0;34m[\u001b[0m\u001b[0;34m]\u001b[0m\u001b[0;34m,\u001b[0m \u001b[0;34m[\u001b[0m\u001b[0;34m]\u001b[0m\u001b[0;34m\u001b[0m\u001b[0;34m\u001b[0m\u001b[0m\n\u001b[1;32m     82\u001b[0m     \u001b[0;32mwith\u001b[0m \u001b[0mtorch\u001b[0m\u001b[0;34m.\u001b[0m\u001b[0mno_grad\u001b[0m\u001b[0;34m(\u001b[0m\u001b[0;34m)\u001b[0m\u001b[0;34m:\u001b[0m  \u001b[0;31m# no gradient computation during validation\u001b[0m\u001b[0;34m\u001b[0m\u001b[0;34m\u001b[0m\u001b[0m\n\u001b[0;32m---> 83\u001b[0;31m         \u001b[0;32mfor\u001b[0m \u001b[0mimgs\u001b[0m\u001b[0;34m,\u001b[0m \u001b[0mlabels\u001b[0m \u001b[0;32min\u001b[0m \u001b[0mval_loader\u001b[0m\u001b[0;34m:\u001b[0m\u001b[0;34m\u001b[0m\u001b[0;34m\u001b[0m\u001b[0m\n\u001b[0m\u001b[1;32m     84\u001b[0m             \u001b[0mimgs\u001b[0m\u001b[0;34m,\u001b[0m \u001b[0mlabels\u001b[0m \u001b[0;34m=\u001b[0m \u001b[0mimgs\u001b[0m\u001b[0;34m.\u001b[0m\u001b[0mto\u001b[0m\u001b[0;34m(\u001b[0m\u001b[0mDEVICE\u001b[0m\u001b[0;34m)\u001b[0m\u001b[0;34m,\u001b[0m \u001b[0mlabels\u001b[0m\u001b[0;34m.\u001b[0m\u001b[0mto\u001b[0m\u001b[0;34m(\u001b[0m\u001b[0mDEVICE\u001b[0m\u001b[0;34m)\u001b[0m\u001b[0;34m\u001b[0m\u001b[0;34m\u001b[0m\u001b[0m\n\u001b[1;32m     85\u001b[0m             \u001b[0moutputs\u001b[0m \u001b[0;34m=\u001b[0m \u001b[0mmodel\u001b[0m\u001b[0;34m(\u001b[0m\u001b[0mimgs\u001b[0m\u001b[0;34m)\u001b[0m\u001b[0;34m\u001b[0m\u001b[0;34m\u001b[0m\u001b[0m\n",
      "\u001b[0;32m/usr/local/lib/python3.12/dist-packages/torch/utils/data/dataloader.py\u001b[0m in \u001b[0;36m__next__\u001b[0;34m(self)\u001b[0m\n\u001b[1;32m    732\u001b[0m                 \u001b[0;31m# TODO(https://github.com/pytorch/pytorch/issues/76750)\u001b[0m\u001b[0;34m\u001b[0m\u001b[0;34m\u001b[0m\u001b[0m\n\u001b[1;32m    733\u001b[0m                 \u001b[0mself\u001b[0m\u001b[0;34m.\u001b[0m\u001b[0m_reset\u001b[0m\u001b[0;34m(\u001b[0m\u001b[0;34m)\u001b[0m  \u001b[0;31m# type: ignore[call-arg]\u001b[0m\u001b[0;34m\u001b[0m\u001b[0;34m\u001b[0m\u001b[0m\n\u001b[0;32m--> 734\u001b[0;31m             \u001b[0mdata\u001b[0m \u001b[0;34m=\u001b[0m \u001b[0mself\u001b[0m\u001b[0;34m.\u001b[0m\u001b[0m_next_data\u001b[0m\u001b[0;34m(\u001b[0m\u001b[0;34m)\u001b[0m\u001b[0;34m\u001b[0m\u001b[0;34m\u001b[0m\u001b[0m\n\u001b[0m\u001b[1;32m    735\u001b[0m             \u001b[0mself\u001b[0m\u001b[0;34m.\u001b[0m\u001b[0m_num_yielded\u001b[0m \u001b[0;34m+=\u001b[0m \u001b[0;36m1\u001b[0m\u001b[0;34m\u001b[0m\u001b[0;34m\u001b[0m\u001b[0m\n\u001b[1;32m    736\u001b[0m             if (\n",
      "\u001b[0;32m/usr/local/lib/python3.12/dist-packages/torch/utils/data/dataloader.py\u001b[0m in \u001b[0;36m_next_data\u001b[0;34m(self)\u001b[0m\n\u001b[1;32m   1490\u001b[0m \u001b[0;34m\u001b[0m\u001b[0m\n\u001b[1;32m   1491\u001b[0m             \u001b[0;32massert\u001b[0m \u001b[0;32mnot\u001b[0m \u001b[0mself\u001b[0m\u001b[0;34m.\u001b[0m\u001b[0m_shutdown\u001b[0m \u001b[0;32mand\u001b[0m \u001b[0mself\u001b[0m\u001b[0;34m.\u001b[0m\u001b[0m_tasks_outstanding\u001b[0m \u001b[0;34m>\u001b[0m \u001b[0;36m0\u001b[0m\u001b[0;34m\u001b[0m\u001b[0;34m\u001b[0m\u001b[0m\n\u001b[0;32m-> 1492\u001b[0;31m             \u001b[0midx\u001b[0m\u001b[0;34m,\u001b[0m \u001b[0mdata\u001b[0m \u001b[0;34m=\u001b[0m \u001b[0mself\u001b[0m\u001b[0;34m.\u001b[0m\u001b[0m_get_data\u001b[0m\u001b[0;34m(\u001b[0m\u001b[0;34m)\u001b[0m\u001b[0;34m\u001b[0m\u001b[0;34m\u001b[0m\u001b[0m\n\u001b[0m\u001b[1;32m   1493\u001b[0m             \u001b[0mself\u001b[0m\u001b[0;34m.\u001b[0m\u001b[0m_tasks_outstanding\u001b[0m \u001b[0;34m-=\u001b[0m \u001b[0;36m1\u001b[0m\u001b[0;34m\u001b[0m\u001b[0;34m\u001b[0m\u001b[0m\n\u001b[1;32m   1494\u001b[0m             \u001b[0;32mif\u001b[0m \u001b[0mself\u001b[0m\u001b[0;34m.\u001b[0m\u001b[0m_dataset_kind\u001b[0m \u001b[0;34m==\u001b[0m \u001b[0m_DatasetKind\u001b[0m\u001b[0;34m.\u001b[0m\u001b[0mIterable\u001b[0m\u001b[0;34m:\u001b[0m\u001b[0;34m\u001b[0m\u001b[0;34m\u001b[0m\u001b[0m\n",
      "\u001b[0;32m/usr/local/lib/python3.12/dist-packages/torch/utils/data/dataloader.py\u001b[0m in \u001b[0;36m_get_data\u001b[0;34m(self)\u001b[0m\n\u001b[1;32m   1442\u001b[0m         \u001b[0;32melif\u001b[0m \u001b[0mself\u001b[0m\u001b[0;34m.\u001b[0m\u001b[0m_pin_memory\u001b[0m\u001b[0;34m:\u001b[0m\u001b[0;34m\u001b[0m\u001b[0;34m\u001b[0m\u001b[0m\n\u001b[1;32m   1443\u001b[0m             \u001b[0;32mwhile\u001b[0m \u001b[0mself\u001b[0m\u001b[0;34m.\u001b[0m\u001b[0m_pin_memory_thread\u001b[0m\u001b[0;34m.\u001b[0m\u001b[0mis_alive\u001b[0m\u001b[0;34m(\u001b[0m\u001b[0;34m)\u001b[0m\u001b[0;34m:\u001b[0m\u001b[0;34m\u001b[0m\u001b[0;34m\u001b[0m\u001b[0m\n\u001b[0;32m-> 1444\u001b[0;31m                 \u001b[0msuccess\u001b[0m\u001b[0;34m,\u001b[0m \u001b[0mdata\u001b[0m \u001b[0;34m=\u001b[0m \u001b[0mself\u001b[0m\u001b[0;34m.\u001b[0m\u001b[0m_try_get_data\u001b[0m\u001b[0;34m(\u001b[0m\u001b[0;34m)\u001b[0m\u001b[0;34m\u001b[0m\u001b[0;34m\u001b[0m\u001b[0m\n\u001b[0m\u001b[1;32m   1445\u001b[0m                 \u001b[0;32mif\u001b[0m \u001b[0msuccess\u001b[0m\u001b[0;34m:\u001b[0m\u001b[0;34m\u001b[0m\u001b[0;34m\u001b[0m\u001b[0m\n\u001b[1;32m   1446\u001b[0m                     \u001b[0;32mreturn\u001b[0m \u001b[0mdata\u001b[0m\u001b[0;34m\u001b[0m\u001b[0;34m\u001b[0m\u001b[0m\n",
      "\u001b[0;32m/usr/local/lib/python3.12/dist-packages/torch/utils/data/dataloader.py\u001b[0m in \u001b[0;36m_try_get_data\u001b[0;34m(self, timeout)\u001b[0m\n\u001b[1;32m   1283\u001b[0m         \u001b[0;31m#   (bool: whether successfully get data, any: data if successful else None)\u001b[0m\u001b[0;34m\u001b[0m\u001b[0;34m\u001b[0m\u001b[0m\n\u001b[1;32m   1284\u001b[0m         \u001b[0;32mtry\u001b[0m\u001b[0;34m:\u001b[0m\u001b[0;34m\u001b[0m\u001b[0;34m\u001b[0m\u001b[0m\n\u001b[0;32m-> 1285\u001b[0;31m             \u001b[0mdata\u001b[0m \u001b[0;34m=\u001b[0m \u001b[0mself\u001b[0m\u001b[0;34m.\u001b[0m\u001b[0m_data_queue\u001b[0m\u001b[0;34m.\u001b[0m\u001b[0mget\u001b[0m\u001b[0;34m(\u001b[0m\u001b[0mtimeout\u001b[0m\u001b[0;34m=\u001b[0m\u001b[0mtimeout\u001b[0m\u001b[0;34m)\u001b[0m\u001b[0;34m\u001b[0m\u001b[0;34m\u001b[0m\u001b[0m\n\u001b[0m\u001b[1;32m   1286\u001b[0m             \u001b[0;32mreturn\u001b[0m \u001b[0;34m(\u001b[0m\u001b[0;32mTrue\u001b[0m\u001b[0;34m,\u001b[0m \u001b[0mdata\u001b[0m\u001b[0;34m)\u001b[0m\u001b[0;34m\u001b[0m\u001b[0;34m\u001b[0m\u001b[0m\n\u001b[1;32m   1287\u001b[0m         \u001b[0;32mexcept\u001b[0m \u001b[0mException\u001b[0m \u001b[0;32mas\u001b[0m \u001b[0me\u001b[0m\u001b[0;34m:\u001b[0m\u001b[0;34m\u001b[0m\u001b[0;34m\u001b[0m\u001b[0m\n",
      "\u001b[0;32m/usr/lib/python3.12/queue.py\u001b[0m in \u001b[0;36mget\u001b[0;34m(self, block, timeout)\u001b[0m\n\u001b[1;32m    178\u001b[0m                     \u001b[0;32mif\u001b[0m \u001b[0mremaining\u001b[0m \u001b[0;34m<=\u001b[0m \u001b[0;36m0.0\u001b[0m\u001b[0;34m:\u001b[0m\u001b[0;34m\u001b[0m\u001b[0;34m\u001b[0m\u001b[0m\n\u001b[1;32m    179\u001b[0m                         \u001b[0;32mraise\u001b[0m \u001b[0mEmpty\u001b[0m\u001b[0;34m\u001b[0m\u001b[0;34m\u001b[0m\u001b[0m\n\u001b[0;32m--> 180\u001b[0;31m                     \u001b[0mself\u001b[0m\u001b[0;34m.\u001b[0m\u001b[0mnot_empty\u001b[0m\u001b[0;34m.\u001b[0m\u001b[0mwait\u001b[0m\u001b[0;34m(\u001b[0m\u001b[0mremaining\u001b[0m\u001b[0;34m)\u001b[0m\u001b[0;34m\u001b[0m\u001b[0;34m\u001b[0m\u001b[0m\n\u001b[0m\u001b[1;32m    181\u001b[0m             \u001b[0mitem\u001b[0m \u001b[0;34m=\u001b[0m \u001b[0mself\u001b[0m\u001b[0;34m.\u001b[0m\u001b[0m_get\u001b[0m\u001b[0;34m(\u001b[0m\u001b[0;34m)\u001b[0m\u001b[0;34m\u001b[0m\u001b[0;34m\u001b[0m\u001b[0m\n\u001b[1;32m    182\u001b[0m             \u001b[0mself\u001b[0m\u001b[0;34m.\u001b[0m\u001b[0mnot_full\u001b[0m\u001b[0;34m.\u001b[0m\u001b[0mnotify\u001b[0m\u001b[0;34m(\u001b[0m\u001b[0;34m)\u001b[0m\u001b[0;34m\u001b[0m\u001b[0;34m\u001b[0m\u001b[0m\n",
      "\u001b[0;32m/usr/lib/python3.12/threading.py\u001b[0m in \u001b[0;36mwait\u001b[0;34m(self, timeout)\u001b[0m\n\u001b[1;32m    357\u001b[0m             \u001b[0;32melse\u001b[0m\u001b[0;34m:\u001b[0m\u001b[0;34m\u001b[0m\u001b[0;34m\u001b[0m\u001b[0m\n\u001b[1;32m    358\u001b[0m                 \u001b[0;32mif\u001b[0m \u001b[0mtimeout\u001b[0m \u001b[0;34m>\u001b[0m \u001b[0;36m0\u001b[0m\u001b[0;34m:\u001b[0m\u001b[0;34m\u001b[0m\u001b[0;34m\u001b[0m\u001b[0m\n\u001b[0;32m--> 359\u001b[0;31m                     \u001b[0mgotit\u001b[0m \u001b[0;34m=\u001b[0m \u001b[0mwaiter\u001b[0m\u001b[0;34m.\u001b[0m\u001b[0macquire\u001b[0m\u001b[0;34m(\u001b[0m\u001b[0;32mTrue\u001b[0m\u001b[0;34m,\u001b[0m \u001b[0mtimeout\u001b[0m\u001b[0;34m)\u001b[0m\u001b[0;34m\u001b[0m\u001b[0;34m\u001b[0m\u001b[0m\n\u001b[0m\u001b[1;32m    360\u001b[0m                 \u001b[0;32melse\u001b[0m\u001b[0;34m:\u001b[0m\u001b[0;34m\u001b[0m\u001b[0;34m\u001b[0m\u001b[0m\n\u001b[1;32m    361\u001b[0m                     \u001b[0mgotit\u001b[0m \u001b[0;34m=\u001b[0m \u001b[0mwaiter\u001b[0m\u001b[0;34m.\u001b[0m\u001b[0macquire\u001b[0m\u001b[0;34m(\u001b[0m\u001b[0;32mFalse\u001b[0m\u001b[0;34m)\u001b[0m\u001b[0;34m\u001b[0m\u001b[0;34m\u001b[0m\u001b[0m\n",
      "\u001b[0;31mKeyboardInterrupt\u001b[0m: "
     ]
    }
   ],
   "source": [
    "# =============================\n",
    "# Colab Cell 4 — Stage 2: Training (ResNet18 transfer learning, clean version)\n",
    "# =============================\n",
    "\n",
    "import os\n",
    "import torch\n",
    "import torch.nn as nn\n",
    "import torch.optim as optim\n",
    "from torchvision.models import resnet18, ResNet18_Weights\n",
    "import numpy as np\n",
    "from tqdm import tqdm   # for progress bars\n",
    "from sklearn.metrics import precision_recall_fscore_support\n",
    "\n",
    "# -----------------------------\n",
    "# Configuration\n",
    "# -----------------------------\n",
    "DEVICE = torch.device(\"cuda\" if torch.cuda.is_available() else \"cpu\")  # use GPU if available, else CPU\n",
    "EPOCHS = 3                  # number of training epochs (adjustable) #keeping 3 as i don't have colab cerdits right now\n",
    "LEARNING_RATE = 1e-4        # learning rate for optimizer\n",
    "MODELS_DIR = \"/content/trasnNet_task/models\"  # directory to save models\n",
    "os.makedirs(MODELS_DIR, exist_ok=True)  # create directory if it does not exist\n",
    "\n",
    "# -----------------------------\n",
    "# Build ResNet18 model\n",
    "# -----------------------------\n",
    "num_classes = len(label_names)  # number of classes in dataset\n",
    "\n",
    "# Load ResNet18 with pretrained ImageNet weights\n",
    "model = resnet18(weights=ResNet18_Weights.DEFAULT)\n",
    "\n",
    "# Optionally freeze backbone layers to speed up training:\n",
    "# for param in model.parameters():\n",
    "#     param.requires_grad = False\n",
    "\n",
    "# Replace the final fully connected (fc) layer with a new one for our number of classes\n",
    "in_features = model.fc.in_features\n",
    "model.fc = nn.Linear(in_features, num_classes)\n",
    "\n",
    "# Move model to GPU/CPU\n",
    "model = model.to(DEVICE)\n",
    "\n",
    "# -----------------------------\n",
    "# Define Loss, Optimizer, Scheduler\n",
    "# -----------------------------\n",
    "criterion = nn.CrossEntropyLoss()                        # classification loss\n",
    "optimizer = optim.Adam(model.parameters(), lr=LEARNING_RATE)  # Adam optimizer\n",
    "scheduler = optim.lr_scheduler.ReduceLROnPlateau(        # learning rate scheduler\n",
    "    optimizer,\n",
    "    mode=\"max\",      # maximize validation accuracy\n",
    "    factor=0.5,      # reduce LR by half on plateau\n",
    "    patience=2       # wait 2 epochs before reducing\n",
    ")\n",
    "\n",
    "# -----------------------------\n",
    "# Training loop\n",
    "# -----------------------------\n",
    "best_val_acc = 0.0  # track best validation accuracy\n",
    "history = {\"train_loss\": [], \"val_loss\": [], \"val_acc\": []}  # log losses and accuracy\n",
    "\n",
    "for epoch in range(1, EPOCHS + 1):\n",
    "    # -------- Train phase --------\n",
    "    model.train()\n",
    "    running_loss = 0.0\n",
    "    for imgs, labels in tqdm(train_loader, desc=f\"Epoch {epoch} train\"):\n",
    "        imgs, labels = imgs.to(DEVICE), labels.to(DEVICE)    # move data to device\n",
    "        optimizer.zero_grad()                                # reset gradients\n",
    "        outputs = model(imgs)                                # forward pass\n",
    "        loss = criterion(outputs, labels)                    # compute loss\n",
    "        loss.backward()                                      # backpropagate\n",
    "        optimizer.step()                                     # update weights\n",
    "        running_loss += loss.item() * imgs.size(0)           # accumulate loss\n",
    "\n",
    "    # Average training loss for this epoch\n",
    "    epoch_loss = running_loss / len(train_loader.dataset)\n",
    "    history[\"train_loss\"].append(epoch_loss)\n",
    "\n",
    "    # -------- Validation phase --------\n",
    "    model.eval()\n",
    "    val_loss = 0.0\n",
    "    correct, total = 0, 0\n",
    "    all_preds, all_labels = [], []\n",
    "    with torch.no_grad():  # no gradient computation during validation\n",
    "        for imgs, labels in val_loader:\n",
    "            imgs, labels = imgs.to(DEVICE), labels.to(DEVICE)\n",
    "            outputs = model(imgs)\n",
    "            loss = criterion(outputs, labels)\n",
    "            val_loss += loss.item() * imgs.size(0)\n",
    "            preds = outputs.argmax(dim=1)  # predicted class\n",
    "            correct += (preds == labels).sum().item()\n",
    "            total += labels.size(0)\n",
    "            all_preds.extend(preds.cpu().numpy())\n",
    "            all_labels.extend(labels.cpu().numpy())\n",
    "\n",
    "    # Average validation loss and accuracy\n",
    "    val_loss /= len(val_loader.dataset)\n",
    "    val_acc = correct / total\n",
    "    history[\"val_loss\"].append(val_loss)\n",
    "    history[\"val_acc\"].append(val_acc)\n",
    "\n",
    "    # Step the scheduler with the new validation accuracy\n",
    "    scheduler.step(val_acc)\n",
    "\n",
    "    # Report progress\n",
    "    print(f\"Epoch {epoch}/{EPOCHS} | Train Loss: {epoch_loss:.4f} | Val Loss: {val_loss:.4f} | Val Acc: {val_acc:.4f}\")\n",
    "\n",
    "    # Save model checkpoint if it improves validation accuracy\n",
    "    if val_acc > best_val_acc:\n",
    "        best_val_acc = val_acc\n",
    "        save_path = os.path.join(MODELS_DIR, \"resnet18_best.pth\")\n",
    "        torch.save({\n",
    "            \"model_state\": model.state_dict(),\n",
    "            \"label_names\": label_names\n",
    "        }, save_path)\n",
    "        print(\"Saved new best model ->\", save_path)\n",
    "\n",
    "# -----------------------------\n",
    "# Training finished\n",
    "# -----------------------------\n",
    "print(\"Training complete. Best validation accuracy:\", best_val_acc)\n"
   ]
  },
  {
   "cell_type": "code",
   "execution_count": 11,
   "metadata": {
    "colab": {
     "base_uri": "https://localhost:8080/"
    },
    "executionInfo": {
     "elapsed": 8393,
     "status": "ok",
     "timestamp": 1759556815829,
     "user": {
      "displayName": "KUMAR SATYAM 3135",
      "userId": "06743662422054108171"
     },
     "user_tz": -330
    },
    "id": "5jBfPV3pgAZZ",
    "outputId": "f3d7c9ee-beca-47b6-b547-14485c4a6453"
   },
   "outputs": [
    {
     "name": "stdout",
     "output_type": "stream",
     "text": [
      "Collecting onnx\n",
      "  Downloading onnx-1.19.0-cp312-cp312-manylinux2014_x86_64.manylinux_2_17_x86_64.whl.metadata (7.0 kB)\n",
      "Requirement already satisfied: onnxruntime in /usr/local/lib/python3.12/dist-packages (1.23.0)\n",
      "Requirement already satisfied: numpy>=1.22 in /usr/local/lib/python3.12/dist-packages (from onnx) (2.0.2)\n",
      "Requirement already satisfied: protobuf>=4.25.1 in /usr/local/lib/python3.12/dist-packages (from onnx) (5.29.5)\n",
      "Requirement already satisfied: typing_extensions>=4.7.1 in /usr/local/lib/python3.12/dist-packages (from onnx) (4.15.0)\n",
      "Requirement already satisfied: ml_dtypes in /usr/local/lib/python3.12/dist-packages (from onnx) (0.5.3)\n",
      "Requirement already satisfied: coloredlogs in /usr/local/lib/python3.12/dist-packages (from onnxruntime) (15.0.1)\n",
      "Requirement already satisfied: flatbuffers in /usr/local/lib/python3.12/dist-packages (from onnxruntime) (25.9.23)\n",
      "Requirement already satisfied: packaging in /usr/local/lib/python3.12/dist-packages (from onnxruntime) (25.0)\n",
      "Requirement already satisfied: sympy in /usr/local/lib/python3.12/dist-packages (from onnxruntime) (1.13.3)\n",
      "Requirement already satisfied: humanfriendly>=9.1 in /usr/local/lib/python3.12/dist-packages (from coloredlogs->onnxruntime) (10.0)\n",
      "Requirement already satisfied: mpmath<1.4,>=1.1.0 in /usr/local/lib/python3.12/dist-packages (from sympy->onnxruntime) (1.3.0)\n",
      "Downloading onnx-1.19.0-cp312-cp312-manylinux2014_x86_64.manylinux_2_17_x86_64.whl (18.2 MB)\n",
      "\u001b[2K   \u001b[90m━━━━━━━━━━━━━━━━━━━━━━━━━━━━━━━━━━━━━━━━\u001b[0m \u001b[32m18.2/18.2 MB\u001b[0m \u001b[31m123.2 MB/s\u001b[0m eta \u001b[36m0:00:00\u001b[0m\n",
      "\u001b[?25hInstalling collected packages: onnx\n",
      "Successfully installed onnx-1.19.0\n"
     ]
    }
   ],
   "source": [
    "!pip install onnx onnxruntime\n"
   ]
  },
  {
   "cell_type": "code",
   "execution_count": 13,
   "metadata": {
    "colab": {
     "base_uri": "https://localhost:8080/"
    },
    "executionInfo": {
     "elapsed": 2983,
     "status": "ok",
     "timestamp": 1759556876667,
     "user": {
      "displayName": "KUMAR SATYAM 3135",
      "userId": "06743662422054108171"
     },
     "user_tz": -330
    },
    "id": "EIZ6tsNlf7Mc",
    "outputId": "b8783384-85e6-4c43-f914-d0ea71fbf693"
   },
   "outputs": [
    {
     "name": "stdout",
     "output_type": "stream",
     "text": [
      "TorchScript model saved at: /content/trasnNet_task/models/resnet18_scrap_scripted.pt\n"
     ]
    },
    {
     "name": "stderr",
     "output_type": "stream",
     "text": [
      "/tmp/ipython-input-67104762.py:54: DeprecationWarning: You are using the legacy TorchScript-based ONNX export. Starting in PyTorch 2.9, the new torch.export-based ONNX exporter will be the default. To switch now, set dynamo=True in torch.onnx.export. This new exporter supports features like exporting LLMs with DynamicCache. We encourage you to try it and share feedback to help improve the experience. Learn more about the new export logic: https://pytorch.org/docs/stable/onnx_dynamo.html. For exporting control flow: https://pytorch.org/tutorials/beginner/onnx/export_control_flow_model_to_onnx_tutorial.html.\n",
      "  torch.onnx.export(\n"
     ]
    },
    {
     "name": "stdout",
     "output_type": "stream",
     "text": [
      "ONNX model saved at: /content/trasnNet_task/models/resnet18_scrap.onnx\n"
     ]
    }
   ],
   "source": [
    "# =============================\n",
    "# Colab Cell 5 — Stage 3: Export to TorchScript & ONNX\n",
    "# =============================\n",
    "\n",
    "import torch\n",
    "import os\n",
    "from torchvision.models import resnet18, ResNet18_Weights\n",
    "\n",
    "# -----------------------------\n",
    "# Define model file paths\n",
    "# -----------------------------\n",
    "MODELS_DIR = \"/content/trasnNet_task/models\"\n",
    "best_model_path = os.path.join(MODELS_DIR, \"resnet18_best.pth\")           # trained checkpoint\n",
    "torchscript_path = os.path.join(MODELS_DIR, \"resnet18_scrap_scripted.pt\") # TorchScript export file\n",
    "onnx_path = os.path.join(MODELS_DIR, \"resnet18_scrap.onnx\")               # ONNX export file\n",
    "\n",
    "# -----------------------------\n",
    "# Load the trained checkpoint\n",
    "# -----------------------------\n",
    "checkpoint = torch.load(best_model_path, map_location=\"cpu\")  # load trained model weights and metadata\n",
    "label_names = checkpoint.get(\"label_names\", label_names)      # retrieve label names\n",
    "num_classes = len(label_names)                                # determine number of output classes\n",
    "\n",
    "# -----------------------------\n",
    "# Rebuild the model architecture\n",
    "# -----------------------------\n",
    "# Note: We load ResNet18 without pretrained weights (weights=None),\n",
    "# because we only need the structure to load our trained weights.\n",
    "model_cpu = resnet18(weights=None)\n",
    "\n",
    "# Replace the final classification layer with correct output size\n",
    "model_cpu.fc = torch.nn.Linear(model_cpu.fc.in_features, num_classes)\n",
    "\n",
    "# Load the trained parameters into the architecture\n",
    "model_cpu.load_state_dict(checkpoint[\"model_state\"])\n",
    "model_cpu.eval()  # set model to evaluation mode\n",
    "\n",
    "# -----------------------------\n",
    "# Export model to TorchScript\n",
    "# -----------------------------\n",
    "# Create a dummy input tensor of correct shape (1 image, 3 channels, 224x224)\n",
    "example_input = torch.randn(1, 3, 224, 224)\n",
    "\n",
    "# Trace the model with example input to produce a TorchScript graph\n",
    "scripted_model = torch.jit.trace(model_cpu, example_input)\n",
    "\n",
    "# Save the TorchScript model\n",
    "scripted_model.save(torchscript_path)\n",
    "print(\"TorchScript model saved at:\", torchscript_path)\n",
    "\n",
    "# -----------------------------\n",
    "# Export model to ONNX\n",
    "# -----------------------------\n",
    "torch.onnx.export(\n",
    "    model_cpu,                # model\n",
    "    example_input,            # dummy input\n",
    "    onnx_path,                # output file path\n",
    "    input_names=[\"input\"],    # name of input tensor\n",
    "    output_names=[\"output\"],  # name of output tensor\n",
    "    dynamic_axes={            # allow variable batch size\n",
    "        \"input\": {0: \"batch_size\"},\n",
    "        \"output\": {0: \"batch_size\"}\n",
    "    },\n",
    "    opset_version=11          # ONNX opset version\n",
    ")\n",
    "\n",
    "print(\"ONNX model saved at:\", onnx_path)\n"
   ]
  },
  {
   "cell_type": "code",
   "execution_count": 14,
   "metadata": {
    "colab": {
     "base_uri": "https://localhost:8080/"
    },
    "executionInfo": {
     "elapsed": 1232,
     "status": "ok",
     "timestamp": 1759556908370,
     "user": {
      "displayName": "KUMAR SATYAM 3135",
      "userId": "06743662422054108171"
     },
     "user_tz": -330
    },
    "id": "eQZ_A8MygjEJ",
    "outputId": "ca45e1dc-e5ba-49ef-aa1d-9fab1fa715ef"
   },
   "outputs": [
    {
     "name": "stdout",
     "output_type": "stream",
     "text": [
      "TorchScript prediction: [('trash', 0.9489697813987732)]\n",
      "ONNX prediction: [('trash', 0.948969841003418)]\n"
     ]
    }
   ],
   "source": [
    "# =============================\n",
    "# Colab Cell 6 — Stage 3: Inference Test (TorchScript + ONNX)\n",
    "# =============================\n",
    "\n",
    "import torch\n",
    "import onnxruntime as ort\n",
    "import numpy as np\n",
    "from torchvision import transforms\n",
    "from PIL import Image\n",
    "\n",
    "# -----------------------------\n",
    "# Paths to exported models\n",
    "# -----------------------------\n",
    "torchscript_path = \"/content/trasnNet_task/models/resnet18_scrap_scripted.pt\"\n",
    "onnx_path = \"/content/trasnNet_task/models/resnet18_scrap.onnx\"\n",
    "\n",
    "# -----------------------------\n",
    "# Define preprocessing pipeline\n",
    "# -----------------------------\n",
    "# Must be identical to validation/test transforms:\n",
    "# - Resize to 224x224\n",
    "# - Convert to tensor\n",
    "# - Normalize with ImageNet mean and std\n",
    "preprocess = transforms.Compose([\n",
    "    transforms.Resize((224, 224)),\n",
    "    transforms.ToTensor(),\n",
    "    transforms.Normalize([0.485,0.456,0.406],\n",
    "                         [0.229,0.224,0.225])\n",
    "])\n",
    "\n",
    "# -----------------------------\n",
    "# TorchScript Inference\n",
    "# -----------------------------\n",
    "def predict_torchscript(img_path, topk=1):\n",
    "    # Load the TorchScript model\n",
    "    model = torch.jit.load(torchscript_path).eval()\n",
    "\n",
    "    # Load image and convert to RGB\n",
    "    img = Image.open(img_path).convert(\"RGB\")\n",
    "\n",
    "    # Apply preprocessing and add batch dimension\n",
    "    x = preprocess(img).unsqueeze(0)  # shape [1, 3, 224, 224]\n",
    "\n",
    "    # Forward pass through the model (no gradients needed)\n",
    "    with torch.no_grad():\n",
    "        out = model(x)\n",
    "        # Apply softmax to convert logits to probabilities\n",
    "        probs = torch.nn.functional.softmax(out, dim=1).cpu().numpy()[0]\n",
    "\n",
    "    # Get top-k predictions\n",
    "    top_idx = np.argsort(probs)[-topk:][::-1]\n",
    "    return [(label_names[i], float(probs[i])) for i in top_idx]\n",
    "\n",
    "# -----------------------------\n",
    "# ONNX Inference\n",
    "# -----------------------------\n",
    "def predict_onnx(img_path, topk=1):\n",
    "    # Create ONNX inference session (CPU backend by default)\n",
    "    sess = ort.InferenceSession(onnx_path, providers=[\"CPUExecutionProvider\"])\n",
    "\n",
    "    # Load image and preprocess\n",
    "    img = Image.open(img_path).convert(\"RGB\")\n",
    "    x = preprocess(img).unsqueeze(0).numpy().astype(np.float32)  # convert to numpy float32\n",
    "\n",
    "    # Run inference with ONNX\n",
    "    out = sess.run(None, {\"input\": x})\n",
    "\n",
    "    # Apply softmax manually (since ONNX export gives raw logits)\n",
    "    probs = np.exp(out[0]) / np.sum(np.exp(out[0]), axis=1, keepdims=True)\n",
    "    probs = probs[0]\n",
    "\n",
    "    # Get top-k predictions\n",
    "    top_idx = probs.argsort()[-topk:][::-1]\n",
    "    return [(label_names[i], float(probs[i])) for i in top_idx]\n",
    "\n",
    "# -----------------------------\n",
    "# Test Inference on a Sample Image\n",
    "# -----------------------------\n",
    "# Select the first test sample from dataset_splits\n",
    "sample_img = dataset_splits[\"test\"][0][\"image\"]\n",
    "\n",
    "# Save it temporarily so we can load it again for inference\n",
    "sample_path = \"/content/sample_test.jpg\"\n",
    "sample_img.save(sample_path)\n",
    "\n",
    "# Run inference using both TorchScript and ONNX\n",
    "print(\"TorchScript prediction:\", predict_torchscript(sample_path))\n",
    "print(\"ONNX prediction:\", predict_onnx(sample_path))\n"
   ]
  },
  {
   "cell_type": "code",
   "execution_count": 18,
   "metadata": {
    "colab": {
     "base_uri": "https://localhost:8080/"
    },
    "executionInfo": {
     "elapsed": 58859,
     "status": "ok",
     "timestamp": 1759557315529,
     "user": {
      "displayName": "KUMAR SATYAM 3135",
      "userId": "06743662422054108171"
     },
     "user_tz": -330
    },
    "id": "unHevsZ0hA9X",
    "outputId": "bd5e3b19-e983-46f7-bc68-5d85711e4056"
   },
   "outputs": [
    {
     "name": "stdout",
     "output_type": "stream",
     "text": [
      "Frame 000: trash (94.90%) \n",
      "Frame 001: trash (61.29%) \n",
      "Frame 002: glass (59.13%) LOW CONFIDENCE\n",
      "Frame 003: cardboard (99.91%) \n",
      "Frame 004: paper (99.89%) \n",
      "Frame 005: paper (98.32%) \n",
      "Frame 006: plastic (50.50%) LOW CONFIDENCE\n",
      "Frame 007: plastic (99.11%) \n",
      "Frame 008: paper (95.13%) \n",
      "Frame 009: paper (82.85%) \n",
      "Frame 010: paper (99.55%) \n",
      "Frame 011: glass (98.54%) \n",
      "Frame 012: paper (99.98%) \n",
      "Frame 013: glass (99.63%) \n",
      "Frame 014: glass (99.12%) \n",
      "Frame 015: paper (97.75%) \n",
      "Frame 016: cardboard (99.88%) \n",
      "Frame 017: metal (81.05%) \n",
      "Frame 018: paper (98.09%) \n",
      "Frame 019: plastic (99.67%) \n",
      "Frame 020: glass (92.40%) \n",
      "Frame 021: paper (99.47%) \n",
      "Frame 022: paper (99.27%) \n",
      "Frame 023: paper (97.68%) \n",
      "Frame 024: cardboard (99.87%) \n",
      "Frame 025: paper (85.76%) \n",
      "Frame 026: plastic (97.49%) \n",
      "Frame 027: plastic (81.63%) \n",
      "Frame 028: cardboard (99.99%) \n",
      "Frame 029: cardboard (99.99%) \n",
      "Frame 030: plastic (99.81%) \n",
      "Frame 031: plastic (90.43%) \n",
      "Frame 032: paper (99.96%) \n",
      "Frame 033: plastic (97.83%) \n",
      "Frame 034: plastic (99.96%) \n",
      "Frame 035: paper (63.40%) \n",
      "Frame 036: glass (99.21%) \n",
      "Frame 037: plastic (85.66%) \n",
      "Frame 038: paper (91.85%) \n",
      "Frame 039: glass (96.54%) \n",
      "Frame 040: paper (99.63%) \n",
      "Frame 041: glass (91.47%) \n",
      "Frame 042: paper (99.68%) \n",
      "Frame 043: paper (86.44%) \n",
      "Frame 044: metal (45.23%) LOW CONFIDENCE\n",
      "Frame 045: paper (42.11%) LOW CONFIDENCE\n",
      "Frame 046: plastic (97.50%) \n",
      "Frame 047: glass (95.18%) \n",
      "Frame 048: glass (83.29%) \n",
      "Frame 049: plastic (99.89%) \n",
      "Frame 050: plastic (98.31%) \n",
      "Frame 051: glass (98.77%) \n",
      "Frame 052: metal (92.85%) \n",
      "Frame 053: plastic (99.92%) \n",
      "Frame 054: plastic (96.16%) \n",
      "Frame 055: paper (55.93%) LOW CONFIDENCE\n",
      "Frame 056: plastic (57.46%) LOW CONFIDENCE\n",
      "Frame 057: glass (97.16%) \n",
      "Frame 058: paper (99.70%) \n",
      "Frame 059: plastic (99.39%) \n",
      "Frame 060: paper (72.64%) \n",
      "Frame 061: metal (95.29%) \n",
      "Frame 062: glass (97.73%) \n",
      "Frame 063: glass (61.56%) \n",
      "Frame 064: glass (76.17%) \n",
      "Frame 065: glass (98.77%) \n",
      "Frame 066: paper (99.03%) \n",
      "Frame 067: cardboard (75.66%) \n",
      "Frame 068: plastic (81.51%) \n",
      "Frame 069: metal (92.33%) \n",
      "Frame 070: paper (89.50%) \n",
      "Frame 071: metal (58.80%) LOW CONFIDENCE\n",
      "Frame 072: paper (99.88%) \n",
      "Frame 073: metal (88.98%) \n",
      "Frame 074: cardboard (99.96%) \n",
      "Frame 075: metal (98.23%) \n",
      "Frame 076: paper (83.93%) \n",
      "Frame 077: trash (98.38%) \n",
      "Frame 078: metal (75.16%) \n",
      "Frame 079: cardboard (99.98%) \n",
      "Frame 080: trash (96.17%) \n",
      "Frame 081: glass (99.21%) \n",
      "Frame 082: glass (87.37%) \n",
      "Frame 083: paper (93.08%) \n",
      "Frame 084: cardboard (99.14%) \n",
      "Frame 085: cardboard (99.99%) \n",
      "Frame 086: trash (95.24%) \n",
      "Frame 087: trash (58.56%) LOW CONFIDENCE\n",
      "Frame 088: metal (70.01%) \n",
      "Frame 089: metal (82.79%) \n",
      "Frame 090: paper (99.60%) \n",
      "Frame 091: glass (99.85%) \n",
      "Frame 092: paper (93.08%) \n",
      "Frame 093: metal (90.64%) \n",
      "Frame 094: paper (99.50%) \n",
      "Frame 095: metal (53.78%) LOW CONFIDENCE\n",
      "Frame 096: glass (85.02%) \n",
      "Frame 097: glass (97.00%) \n",
      "Frame 098: glass (66.41%) \n",
      "Frame 099: paper (97.84%) \n",
      "Simulation complete. Predictions saved to: /content/trasnNet_task/results/predictions.csv\n"
     ]
    }
   ],
   "source": [
    "# =============================\n",
    "# Colab Cell 7 — Stage 4: Conveyor Simulation\n",
    "# =============================\n",
    "\n",
    "import os\n",
    "import csv\n",
    "import time\n",
    "from PIL import Image\n",
    "\n",
    "# -----------------------------\n",
    "# Results folder and CSV path\n",
    "# -----------------------------\n",
    "os.makedirs(\"/content/trasnNet_task/results\", exist_ok=True)                 # create results directory if not present\n",
    "csv_path = \"/content/trasnNet_task/results/predictions.csv\"                  # CSV file to log predictions\n",
    "\n",
    "# -----------------------------\n",
    "# Choose inference function\n",
    "# -----------------------------\n",
    "# can switch between TorchScript or ONNX depending on which export you want to test.\n",
    "inference_fn = predict_torchscript   # or use: predict_onnx\n",
    "\n",
    "# -----------------------------\n",
    "# Simulation parameters\n",
    "# -----------------------------\n",
    "CONF_THRESHOLD = 0.60   # flag predictions below this probability as \"low confidence\"\n",
    "FRAME_INTERVAL = 0.2    # delay between frames (seconds) to simulate real-time stream\n",
    "# Limit to first 100 test images safely\n",
    "MAX_FRAMES = 100\n",
    "test_subset = dataset_splits[\"test\"].select(range(MAX_FRAMES))\n",
    "\n",
    "with open(csv_path, \"w\", newline=\"\") as f:\n",
    "    writer = csv.writer(f)\n",
    "    writer.writerow([\"frame_id\", \"predicted_class\", \"confidence\", \"low_confidence_flag\", \"timestamp\"])\n",
    "\n",
    "    for i, ex in enumerate(test_subset):\n",
    "        # load image\n",
    "        img = ex[\"image\"]\n",
    "        if not isinstance(img, Image.Image):\n",
    "            img = Image.fromarray(img)\n",
    "\n",
    "        # save temporary file for inference\n",
    "        tmp_path = f\"/tmp/frame_{i}.jpg\"\n",
    "        img.save(tmp_path)\n",
    "\n",
    "        # run inference on the frame\n",
    "        preds = inference_fn(tmp_path, topk=1)\n",
    "        pred_class, conf = preds[0]\n",
    "\n",
    "        # check confidence threshold\n",
    "        low_conf = int(conf < CONF_THRESHOLD)\n",
    "\n",
    "        # record current timestamp\n",
    "        ts = time.strftime(\"%Y-%m-%d %H:%M:%S\", time.localtime())\n",
    "\n",
    "        # print result to console\n",
    "        print(f\"Frame {i:03d}: {pred_class} ({conf*100:.2f}%) {'LOW CONFIDENCE' if low_conf else ''}\")\n",
    "\n",
    "        # write result to CSV\n",
    "        writer.writerow([i, pred_class, f\"{conf:.4f}\", low_conf, ts])\n",
    "\n",
    "        # simulate delay between frames\n",
    "        time.sleep(FRAME_INTERVAL)\n",
    "\n",
    "print(f\"Simulation complete. Predictions saved to: {csv_path}\")\n",
    "\n"
   ]
  },
  {
   "cell_type": "code",
   "execution_count": 21,
   "metadata": {
    "colab": {
     "base_uri": "https://localhost:8080/",
     "height": 1000,
     "output_embedded_package_id": "1hX704DD7tNcV4oaahuShpQbO0wjGA4GQ"
    },
    "executionInfo": {
     "elapsed": 150237,
     "status": "ok",
     "timestamp": 1759557804273,
     "user": {
      "displayName": "KUMAR SATYAM 3135",
      "userId": "06743662422054108171"
     },
     "user_tz": -330
    },
    "id": "b7cXLEp3hSRw",
    "outputId": "2398f54a-a3cf-4406-f795-e88cbbd52413"
   },
   "outputs": [
    {
     "data": {
      "text/plain": [
       "Output hidden; open in https://colab.research.google.com to view."
      ]
     },
     "metadata": {},
     "output_type": "display_data"
    }
   ],
   "source": [
    "# =============================\n",
    "# Colab Cell 7b — Stage 4: Conveyor Visualization (100 Images Grid)\n",
    "# =============================\n",
    "\n",
    "import matplotlib.pyplot as plt\n",
    "import time\n",
    "from PIL import Image\n",
    "import os\n",
    "\n",
    "# -----------------------------\n",
    "# Choose inference backend\n",
    "# -----------------------------\n",
    "inference_fn = predict_torchscript  # or predict_onnx\n",
    "\n",
    "# -----------------------------\n",
    "# Visualization parameters\n",
    "# -----------------------------\n",
    "CONF_THRESHOLD = 0.60\n",
    "FRAME_INTERVAL = 0.3   # shorter pause for smoother progress\n",
    "NUM_IMAGES = 100        # total images to display\n",
    "IMAGES_PER_ROW = 10     # number of images per row\n",
    "ROWS = NUM_IMAGES // IMAGES_PER_ROW  # calculate rows automatically\n",
    "\n",
    "# -----------------------------\n",
    "# Collect predictions for first 100 samples\n",
    "# -----------------------------\n",
    "predictions = []\n",
    "\n",
    "for i in range(NUM_IMAGES):\n",
    "    ex = dataset_splits[\"test\"][i]\n",
    "    img = ex[\"image\"]\n",
    "\n",
    "    # ensure the image is a PIL Image\n",
    "    if not isinstance(img, Image.Image):\n",
    "        img = Image.fromarray(img)\n",
    "\n",
    "    # save temporarily for inference\n",
    "    tmp_path = f\"/tmp/frame_{i}.jpg\"\n",
    "    img.save(tmp_path)\n",
    "\n",
    "    # run prediction\n",
    "    preds = inference_fn(tmp_path, topk=1)\n",
    "    pred_class, conf = preds[0]\n",
    "    conf_text = f\"{pred_class} ({conf*100:.1f}%)\"\n",
    "    if conf < CONF_THRESHOLD:\n",
    "        conf_text += \" ⚠️\"\n",
    "\n",
    "    predictions.append((img, conf_text))\n",
    "    time.sleep(FRAME_INTERVAL)\n",
    "\n",
    "# -----------------------------\n",
    "# Display in a 10x10 grid\n",
    "# -----------------------------\n",
    "fig, axes = plt.subplots(ROWS, IMAGES_PER_ROW, figsize=(22, 22))\n",
    "fig.suptitle(\"Conveyor Simulation: Predicted Classes & Confidence (100 Samples)\", fontsize=18)\n",
    "\n",
    "for i, (img, conf_text) in enumerate(predictions):\n",
    "    ax = axes[i // IMAGES_PER_ROW, i % IMAGES_PER_ROW]\n",
    "    ax.imshow(img)\n",
    "    ax.set_title(conf_text, fontsize=8)\n",
    "    ax.axis(\"off\")\n",
    "\n",
    "plt.tight_layout(rect=[0, 0, 1, 0.97])\n",
    "\n",
    "# -----------------------------\n",
    "# Save the grid visualization\n",
    "# -----------------------------\n",
    "os.makedirs(\"/content/trasnNet_task/results\", exist_ok=True)\n",
    "save_path = \"/content/trasnNet_task/results/conveyor_grid_100.png\"\n",
    "plt.savefig(save_path, dpi=200)\n",
    "plt.show()\n",
    "\n",
    "print(f\"Saved conveyor grid visualization at: {save_path}\")\n"
   ]
  },
  {
   "cell_type": "code",
   "execution_count": 23,
   "metadata": {
    "colab": {
     "base_uri": "https://localhost:8080/",
     "height": 862
    },
    "executionInfo": {
     "elapsed": 61985,
     "status": "ok",
     "timestamp": 1759557986862,
     "user": {
      "displayName": "KUMAR SATYAM 3135",
      "userId": "06743662422054108171"
     },
     "user_tz": -330
    },
    "id": "XAkEeExYji7D",
    "outputId": "c9c15dbf-e56a-4d58-c16e-0e0196bd3085"
   },
   "outputs": [
    {
     "name": "stdout",
     "output_type": "stream",
     "text": [
      "Classification Report:\n",
      "\n",
      "              precision    recall  f1-score   support\n",
      "\n",
      "   cardboard     0.9412    0.8533    0.8951        75\n",
      "       glass     0.9072    0.8544    0.8800       103\n",
      "       metal     0.7526    0.9359    0.8343        78\n",
      "       paper     0.8947    0.8947    0.8947       114\n",
      "     plastic     0.8866    0.8190    0.8515       105\n",
      "       trash     0.6786    0.7308    0.7037        26\n",
      "\n",
      "    accuracy                         0.8623       501\n",
      "   macro avg     0.8435    0.8480    0.8432       501\n",
      "weighted avg     0.8692    0.8623    0.8634       501\n",
      "\n"
     ]
    },
    {
     "data": {
      "image/png": "[encoded data removed]",
      "text/plain": [
       "<Figure size 600x600 with 1 Axes>"
      ]
     },
     "metadata": {},
     "output_type": "display_data"
    },
    {
     "name": "stdout",
     "output_type": "stream",
     "text": [
      "Confusion matrix saved at: /content/trasnNet_task/results/confusion_matrix.png\n"
     ]
    }
   ],
   "source": [
    "# =============================\n",
    "# Colab Cell 8 — Stage 5: Reporting & Evaluation\n",
    "# =============================\n",
    "\n",
    "import torch\n",
    "import numpy as np\n",
    "import matplotlib.pyplot as plt\n",
    "from sklearn.metrics import classification_report, confusion_matrix, ConfusionMatrixDisplay\n",
    "import os\n",
    "\n",
    "# -----------------------------\n",
    "# Ensure results folder exists\n",
    "# -----------------------------\n",
    "os.makedirs(\"/content/trasnNet_task/results\", exist_ok=True)\n",
    "\n",
    "# -----------------------------\n",
    "# Load the best trained model\n",
    "# -----------------------------\n",
    "checkpoint = torch.load(\"/content/trasnNet_task/models/resnet18_best.pth\", map_location=DEVICE)\n",
    "\n",
    "# Rebuild model architecture (ResNet18 without pretrained weights)\n",
    "model = resnet18(weights=None)\n",
    "model.fc = nn.Linear(model.fc.in_features, len(label_names))\n",
    "\n",
    "# Load trained weights\n",
    "model.load_state_dict(checkpoint[\"model_state\"])\n",
    "model = model.to(DEVICE)\n",
    "model.eval()   # set to evaluation mode\n",
    "\n",
    "# -----------------------------\n",
    "# Run inference on the test set\n",
    "# -----------------------------\n",
    "all_preds, all_labels = [], []\n",
    "with torch.no_grad():   # no gradients during evaluation\n",
    "    for imgs, labels in test_loader:\n",
    "        imgs, labels = imgs.to(DEVICE), labels.to(DEVICE)\n",
    "        outputs = model(imgs)                # forward pass\n",
    "        preds = outputs.argmax(dim=1)        # predicted class\n",
    "        all_preds.extend(preds.cpu().numpy())\n",
    "        all_labels.extend(labels.cpu().numpy())\n",
    "\n",
    "# Convert lists to NumPy arrays\n",
    "all_preds = np.array(all_preds)\n",
    "all_labels = np.array(all_labels)\n",
    "\n",
    "# -----------------------------\n",
    "# Print classification metrics\n",
    "# -----------------------------\n",
    "print(\"Classification Report:\\n\")\n",
    "print(classification_report(\n",
    "    all_labels,\n",
    "    all_preds,\n",
    "    target_names=label_names,\n",
    "    digits=4\n",
    "))\n",
    "\n",
    "# -----------------------------\n",
    "# Plot and save confusion matrix\n",
    "# -----------------------------\n",
    "cm = confusion_matrix(all_labels, all_preds, normalize=\"true\")   # normalized confusion matrix\n",
    "disp = ConfusionMatrixDisplay(confusion_matrix=cm, display_labels=label_names)\n",
    "\n",
    "fig, ax = plt.subplots(figsize=(6, 6))\n",
    "disp.plot(ax=ax, cmap=\"Blues\", colorbar=False)\n",
    "plt.title(\"Normalized Confusion Matrix\")\n",
    "\n",
    "# Save to results folder\n",
    "cm_path = \"/content/trasnNet_task/results/confusion_matrix.png\"\n",
    "plt.savefig(cm_path)\n",
    "plt.show()\n",
    "\n",
    "print(\"Confusion matrix saved at:\", cm_path)\n"
   ]
  },
  {
   "cell_type": "code",
   "execution_count": null,
   "metadata": {
    "colab": {
     "base_uri": "https://localhost:8080/"
    },
    "id": "-k8Ri0CGBgbs",
    "outputId": "b83578df-5cda-4c94-eddd-a3b73c389575"
   },
   "outputs": [
    {
     "name": "stdout",
     "output_type": "stream",
     "text": [
      "models\tresults  sample_data  sample_test.jpg\n"
     ]
    }
   ],
   "source": [
    "!ls /content"
   ]
  },
  {
   "cell_type": "code",
   "execution_count": null,
   "metadata": {
    "colab": {
     "base_uri": "https://localhost:8080/",
     "height": 558
    },
    "id": "F0xhLzSbB9Sb",
    "outputId": "9f567214-2991-4250-947c-18424feb4188"
   },
   "outputs": [
    {
     "name": "stdout",
     "output_type": "stream",
     "text": [
      "updating: content/ (stored 0%)\n",
      "updating: content/.config/ (stored 0%)\n",
      "updating: content/.config/logs/ (stored 0%)\n",
      "updating: content/.config/logs/2025.10.01/ (stored 0%)\n",
      "updating: content/.config/logs/2025.10.01/13.38.45.865829.log (deflated 57%)\n",
      "updating: content/.config/logs/2025.10.01/13.37.47.440273.log (deflated 92%)\n",
      "updating: content/.config/logs/2025.10.01/13.38.18.172679.log (deflated 58%)\n",
      "updating: content/.config/logs/2025.10.01/13.38.46.667378.log (deflated 56%)\n",
      "updating: content/.config/logs/2025.10.01/13.38.34.930571.log (deflated 58%)\n",
      "updating: content/.config/logs/2025.10.01/13.38.28.883409.log (deflated 86%)\n",
      "updating: content/.config/config_sentinel (stored 0%)\n",
      "updating: content/.config/.last_opt_in_prompt.yaml (stored 0%)\n",
      "updating: content/.config/active_config (stored 0%)\n",
      "updating: content/.config/default_configs.db (deflated 98%)\n",
      "updating: content/.config/configurations/ (stored 0%)\n",
      "updating: content/.config/configurations/config_default (deflated 15%)\n",
      "updating: content/.config/hidden_gcloud_config_universe_descriptor_data_cache_configs.db (deflated 97%)\n",
      "updating: content/.config/.last_update_check.json (deflated 24%)\n",
      "updating: content/.config/.last_survey_prompt.yaml (stored 0%)\n",
      "updating: content/.config/gce (stored 0%)\n",
      "updating: content/sample_test.jpg (deflated 3%)\n",
      "updating: content/results/ (stored 0%)\n",
      "updating: content/results/confusion_matrix.png (deflated 14%)\n",
      "updating: content/results/predictions.csv (deflated 79%)\n",
      "updating: content/models/ (stored 0%)\n",
      "updating: content/models/resnet18_scrap.onnx (deflated 7%)\n",
      "updating: content/models/resnet18_scrap_scripted.pt (deflated 7%)\n",
      "updating: content/models/resnet18_best.pth (deflated 7%)\n",
      "  adding: content/.ipynb_checkpoints/ (stored 0%)\n"
     ]
    },
    {
     "data": {
      "application/javascript": [
       "\n",
       "    async function download(id, filename, size) {\n",
       "      if (!google.colab.kernel.accessAllowed) {\n",
       "        return;\n",
       "      }\n",
       "      const div = document.createElement('div');\n",
       "      const label = document.createElement('label');\n",
       "      label.textContent = `Downloading \"${filename}\": `;\n",
       "      div.appendChild(label);\n",
       "      const progress = document.createElement('progress');\n",
       "      progress.max = size;\n",
       "      div.appendChild(progress);\n",
       "      document.body.appendChild(div);\n",
       "\n",
       "      const buffers = [];\n",
       "      let downloaded = 0;\n",
       "\n",
       "      const channel = await google.colab.kernel.comms.open(id);\n",
       "      // Send a message to notify the kernel that we're ready.\n",
       "      channel.send({})\n",
       "\n",
       "      for await (const message of channel.messages) {\n",
       "        // Send a message to notify the kernel that we're ready.\n",
       "        channel.send({})\n",
       "        if (message.buffers) {\n",
       "          for (const buffer of message.buffers) {\n",
       "            buffers.push(buffer);\n",
       "            downloaded += buffer.byteLength;\n",
       "            progress.value = downloaded;\n",
       "          }\n",
       "        }\n",
       "      }\n",
       "      const blob = new Blob(buffers, {type: 'application/binary'});\n",
       "      const a = document.createElement('a');\n",
       "      a.href = window.URL.createObjectURL(blob);\n",
       "      a.download = filename;\n",
       "      div.appendChild(a);\n",
       "      a.click();\n",
       "      div.remove();\n",
       "    }\n",
       "  "
      ],
      "text/plain": [
       "<IPython.core.display.Javascript object>"
      ]
     },
     "metadata": {},
     "output_type": "display_data"
    },
    {
     "data": {
      "application/javascript": [
       "download(\"download_e2e8b1ba-f25c-4b7a-ad31-3a6566c4bdc4\", \"project_outputs.zip\", 131760825)"
      ],
      "text/plain": [
       "<IPython.core.display.Javascript object>"
      ]
     },
     "metadata": {},
     "output_type": "display_data"
    }
   ],
   "source": [
    "# Zip the entire /content folder\n",
    "!zip -r /content/project_outputs.zip /content\n",
    "\n",
    "# Download the zip file\n",
    "from google.colab import files\n",
    "files.download(\"/content/project_outputs.zip\")\n"
   ]
  },
  {
   "cell_type": "code",
   "execution_count": 24,
   "metadata": {
    "colab": {
     "base_uri": "https://localhost:8080/"
    },
    "collapsed": true,
    "executionInfo": {
     "elapsed": 6525,
     "status": "ok",
     "timestamp": 1759558205856,
     "user": {
      "displayName": "KUMAR SATYAM 3135",
      "userId": "06743662422054108171"
     },
     "user_tz": -330
    },
    "id": "04ul_5TZCtkV",
    "outputId": "e5e6446d-6f8d-473d-885a-dda8d959ee12"
   },
   "outputs": [
    {
     "name": "stdout",
     "output_type": "stream",
     "text": [
      "Reading package lists... Done\n",
      "Building dependency tree... Done\n",
      "Reading state information... Done\n",
      "The following NEW packages will be installed:\n",
      "  tree\n",
      "0 upgraded, 1 newly installed, 0 to remove and 38 not upgraded.\n",
      "Need to get 47.9 kB of archives.\n",
      "After this operation, 116 kB of additional disk space will be used.\n",
      "Get:1 http://archive.ubuntu.com/ubuntu jammy/universe amd64 tree amd64 2.0.2-1 [47.9 kB]\n",
      "Fetched 47.9 kB in 0s (170 kB/s)\n",
      "debconf: unable to initialize frontend: Dialog\n",
      "debconf: (No usable dialog-like program is installed, so the dialog based frontend cannot be used. at /usr/share/perl5/Debconf/FrontEnd/Dialog.pm line 78, <> line 1.)\n",
      "debconf: falling back to frontend: Readline\n",
      "debconf: unable to initialize frontend: Readline\n",
      "debconf: (This frontend requires a controlling tty.)\n",
      "debconf: falling back to frontend: Teletype\n",
      "dpkg-preconfigure: unable to re-open stdin: \n",
      "Selecting previously unselected package tree.\n",
      "(Reading database ... 126675 files and directories currently installed.)\n",
      "Preparing to unpack .../tree_2.0.2-1_amd64.deb ...\n",
      "Unpacking tree (2.0.2-1) ...\n",
      "Setting up tree (2.0.2-1) ...\n",
      "Processing triggers for man-db (2.10.2-1) ...\n",
      "\u001b[01;34m/content/trasnNet_task\u001b[0m\n",
      "├── \u001b[01;34mcheckpoints\u001b[0m\n",
      "├── \u001b[01;34mmodels\u001b[0m\n",
      "│   ├── \u001b[00mresnet18_best.pth\u001b[0m\n",
      "│   ├── \u001b[00mresnet18_scrap.onnx\u001b[0m\n",
      "│   └── \u001b[00mresnet18_scrap_scripted.pt\u001b[0m\n",
      "└── \u001b[01;34mresults\u001b[0m\n",
      "    ├── \u001b[00mconfusion_matrix.png\u001b[0m\n",
      "    ├── \u001b[00mconveyor_grid_100.png\u001b[0m\n",
      "    └── \u001b[00mpredictions.csv\u001b[0m\n",
      "\n",
      "3 directories, 6 files\n"
     ]
    }
   ],
   "source": [
    "!sudo apt-get install tree -y\n",
    "\n"
   ]
  },
  {
   "cell_type": "code",
   "execution_count": 25,
   "metadata": {
    "colab": {
     "base_uri": "https://localhost:8080/"
    },
    "executionInfo": {
     "elapsed": 125,
     "status": "ok",
     "timestamp": 1759558214423,
     "user": {
      "displayName": "KUMAR SATYAM 3135",
      "userId": "06743662422054108171"
     },
     "user_tz": -330
    },
    "id": "3YPUcQwy15yJ",
    "outputId": "63b46e59-0d49-43ee-fc97-bda407036102"
   },
   "outputs": [
    {
     "name": "stdout",
     "output_type": "stream",
     "text": [
      "\u001b[01;34m/content/trasnNet_task\u001b[0m\n",
      "├── \u001b[01;34mcheckpoints\u001b[0m\n",
      "├── \u001b[01;34mmodels\u001b[0m\n",
      "│   ├── \u001b[00mresnet18_best.pth\u001b[0m\n",
      "│   ├── \u001b[00mresnet18_scrap.onnx\u001b[0m\n",
      "│   └── \u001b[00mresnet18_scrap_scripted.pt\u001b[0m\n",
      "└── \u001b[01;34mresults\u001b[0m\n",
      "    ├── \u001b[00mconfusion_matrix.png\u001b[0m\n",
      "    ├── \u001b[00mconveyor_grid_100.png\u001b[0m\n",
      "    └── \u001b[00mpredictions.csv\u001b[0m\n",
      "\n",
      "3 directories, 6 files\n"
     ]
    }
   ],
   "source": [
    "!tree /content/trasnNet_task"
   ]
  },
  {
   "cell_type": "code",
   "execution_count": 26,
   "metadata": {
    "colab": {
     "base_uri": "https://localhost:8080/",
     "height": 17
    },
    "executionInfo": {
     "elapsed": 8262,
     "status": "ok",
     "timestamp": 1759558592695,
     "user": {
      "displayName": "KUMAR SATYAM 3135",
      "userId": "06743662422054108171"
     },
     "user_tz": -330
    },
    "id": "NlF_62Mf3UMJ",
    "outputId": "6401eb9f-49d7-47a0-b4ec-efbe515faff5"
   },
   "outputs": [
    {
     "data": {
      "application/javascript": [
       "\n",
       "    async function download(id, filename, size) {\n",
       "      if (!google.colab.kernel.accessAllowed) {\n",
       "        return;\n",
       "      }\n",
       "      const div = document.createElement('div');\n",
       "      const label = document.createElement('label');\n",
       "      label.textContent = `Downloading \"${filename}\": `;\n",
       "      div.appendChild(label);\n",
       "      const progress = document.createElement('progress');\n",
       "      progress.max = size;\n",
       "      div.appendChild(progress);\n",
       "      document.body.appendChild(div);\n",
       "\n",
       "      const buffers = [];\n",
       "      let downloaded = 0;\n",
       "\n",
       "      const channel = await google.colab.kernel.comms.open(id);\n",
       "      // Send a message to notify the kernel that we're ready.\n",
       "      channel.send({})\n",
       "\n",
       "      for await (const message of channel.messages) {\n",
       "        // Send a message to notify the kernel that we're ready.\n",
       "        channel.send({})\n",
       "        if (message.buffers) {\n",
       "          for (const buffer of message.buffers) {\n",
       "            buffers.push(buffer);\n",
       "            downloaded += buffer.byteLength;\n",
       "            progress.value = downloaded;\n",
       "          }\n",
       "        }\n",
       "      }\n",
       "      const blob = new Blob(buffers, {type: 'application/binary'});\n",
       "      const a = document.createElement('a');\n",
       "      a.href = window.URL.createObjectURL(blob);\n",
       "      a.download = filename;\n",
       "      div.appendChild(a);\n",
       "      a.click();\n",
       "      div.remove();\n",
       "    }\n",
       "  "
      ],
      "text/plain": [
       "<IPython.core.display.Javascript object>"
      ]
     },
     "metadata": {},
     "output_type": "display_data"
    },
    {
     "data": {
      "application/javascript": [
       "download(\"download_4fc5e712-ca4d-4faf-8564-9d0be6418803\", \"trasnNet_task_backup.zip\", 138577701)"
      ],
      "text/plain": [
       "<IPython.core.display.Javascript object>"
      ]
     },
     "metadata": {},
     "output_type": "display_data"
    }
   ],
   "source": [
    "import shutil\n",
    "from google.colab import files\n",
    "\n",
    "# Define your main project folder\n",
    "project_path = \"/content/trasnNet_task\"\n",
    "zip_path = \"/content/trasnNet_task_backup.zip\"\n",
    "\n",
    "# Create a zip of the entire folder (recursively)\n",
    "shutil.make_archive(\"/content/trasnNet_task_backup\", 'zip', project_path)\n",
    "\n",
    "# Download the zip file to your local machine\n",
    "files.download(zip_path)\n"
   ]
  },
  {
   "cell_type": "code",
   "execution_count": null,
   "metadata": {
    "id": "8zi7mcOq6KKy"
   },
   "outputs": [],
   "source": [
    "import nbformat\n",
    "\n",
    "# Path of your notebook in Google Drive\n",
    "notebook_path = \"/content/drive/MyDrive/Colab Notebooks/trash_net_script.ipynb\"\n",
    "cleaned_path = \"/content/drive/MyDrive/Colab Notebooks/trash_net_script_clean.ipynb\"\n",
    "\n",
    "# Load and clean the notebook\n",
    "with open(notebook_path, \"r\", encoding=\"utf-8\") as f:\n",
    "    nb = nbformat.read(f, as_version=4)\n",
    "\n",
    "for cell in nb.cells:\n",
    "    if \"metadata\" in cell:\n",
    "        # Remove any leftover widget state metadata that breaks GitHub rendering\n",
    "        cell[\"metadata\"].pop(\"widgets\", None)\n",
    "\n",
    "# Write the cleaned notebook\n",
    "with open(cleaned_path, \"w\", encoding=\"utf-8\") as f:\n",
    "    nbformat.write(nb, f)\n",
    "\n",
    "print(f\"✅ Cleaned notebook saved at: {cleaned_path}\")\n"
   ]
  }
 ],
 "metadata": {
  "accelerator": "GPU",
  "colab": {
   "gpuType": "A100",
   "machine_shape": "hm",
   "provenance": []
  },
  "kernelspec": {
   "display_name": "Python 3",
   "name": "python3"
  },
  "language_info": {
   "name": "python"
  }
 },
 "nbformat": 4,
 "nbformat_minor": 0
}
